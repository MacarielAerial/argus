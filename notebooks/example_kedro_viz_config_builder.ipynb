{
 "cells": [
  {
   "cell_type": "markdown",
   "metadata": {},
   "source": [
    "# Example Usage of Kedro Viz Config Builder"
   ]
  },
  {
   "cell_type": "code",
   "execution_count": 1,
   "metadata": {},
   "outputs": [],
   "source": [
    "from pathlib import Path\n",
    "\n",
    "from argus.nodes.project_logging import default_logging\n",
    "from argus.data_interfaces.kedro_viz_config_data_interface import KedroVizConfigConfigDataInterface\n",
    "from argus.nodes.kedro_viz_config_builder import KedroVizConfigBuilder, KedroVizConfig, DataNodeDict, TaskNodeDict, TripleDict\n",
    "\n",
    "default_logging()"
   ]
  },
  {
   "cell_type": "code",
   "execution_count": 2,
   "metadata": {},
   "outputs": [],
   "source": [
    "path_kedro_viz_config = Path(\"./kedro_viz_config.json\")"
   ]
  },
  {
   "cell_type": "code",
   "execution_count": 3,
   "metadata": {},
   "outputs": [
    {
     "name": "stdout",
     "output_type": "stream",
     "text": [
      "2023-09-24 14:39:58,202 argus.nodes.kedro_viz_config_builder - DEBUG:Added a pipeline __default__ to the set\n"
     ]
    }
   ],
   "source": [
    "kedro_viz_data_interface = KedroVizConfigConfigDataInterface(filepath=path_kedro_viz_config)\n",
    "\n",
    "builder = KedroVizConfigBuilder(kedro_viz_config=KedroVizConfig())"
   ]
  },
  {
   "cell_type": "code",
   "execution_count": 4,
   "metadata": {},
   "outputs": [],
   "source": [
    "raw_data_node_1_dict = DataNodeDict(node_name=\"Raw input 1\", layer=\"raw\")\n",
    "raw_data_node_2_dict = DataNodeDict(node_name=\"Raw input 2\", layer=\"raw\")\n",
    "task_node_3_dict = TaskNodeDict(node_name=\"Task node 3\", tags=[\"orange\"])\n",
    "primary_data_node_4_dict = DataNodeDict(node_name=\"Primary data node 4\", layer=\"primary\")\n",
    "task_node_5_dict = TaskNodeDict(node_name=\"Task node 5\", tags=[\"banana\"])\n",
    "feature_data_node_6 = DataNodeDict(node_name=\"Feature data node 6\", layer=\"feature\")"
   ]
  },
  {
   "cell_type": "code",
   "execution_count": 5,
   "metadata": {},
   "outputs": [],
   "source": [
    "raw_1_to_task_3_triple_dict = TripleDict(raw_data_node_1_dict, task_node_3_dict, primary_data_node_4_dict)\n",
    "raw_2_to_task_3_triple_dict = TripleDict(raw_data_node_2_dict, task_node_3_dict, primary_data_node_4_dict)\n",
    "primary_4_to_feature_6_triple_dict = TripleDict(primary_data_node_4_dict, task_node_5_dict, feature_data_node_6)"
   ]
  },
  {
   "cell_type": "code",
   "execution_count": 6,
   "metadata": {},
   "outputs": [
    {
     "name": "stdout",
     "output_type": "stream",
     "text": [
      "2023-09-24 14:39:58,238 argus.nodes.kedro_viz_config_builder - DEBUG:Added a data node: Raw input 1 whose node id is 0\n",
      "2023-09-24 14:39:58,241 argus.nodes.kedro_viz_config_builder - DEBUG:Added a task node: Task node 3 whose node id is 1\n",
      "2023-09-24 14:39:58,242 argus.nodes.kedro_viz_config_builder - DEBUG:Added a data node: Primary data node 4 whose node id is 2\n",
      "2023-09-24 14:39:58,243 argus.nodes.kedro_viz_config_builder - DEBUG:Added an edge between node with id 0 and node with id 1\n",
      "2023-09-24 14:39:58,244 argus.nodes.kedro_viz_config_builder - DEBUG:Added an edge between node with id 1 and node with id 2\n",
      "2023-09-24 14:39:58,245 argus.nodes.kedro_viz_config_builder - DEBUG:Added a tag orange to the set\n",
      "2023-09-24 14:39:58,246 argus.nodes.kedro_viz_config_builder - DEBUG:Added a layer raw to the set\n",
      "2023-09-24 14:39:58,248 argus.nodes.kedro_viz_config_builder - DEBUG:Added a layer primary to the set\n",
      "2023-09-24 14:39:58,249 argus.nodes.kedro_viz_config_builder - INFO:Added a triple: ('Raw input 1', 'Task node 3', 'Primary data node 4')\n",
      "2023-09-24 14:39:58,250 argus.nodes.kedro_viz_config_builder - DEBUG:Added a data node: Raw input 2 whose node id is 3\n",
      "2023-09-24 14:39:58,251 argus.nodes.kedro_viz_config_builder - DEBUG:Added an edge between node with id 3 and node with id 1\n",
      "2023-09-24 14:39:58,252 argus.nodes.kedro_viz_config_builder - DEBUG:Added an edge between node with id 1 and node with id 2\n",
      "2023-09-24 14:39:58,253 argus.nodes.kedro_viz_config_builder - DEBUG:Added a tag orange to the set\n",
      "2023-09-24 14:39:58,253 argus.nodes.kedro_viz_config_builder - INFO:Added a triple: ('Raw input 2', 'Task node 3', 'Primary data node 4')\n",
      "2023-09-24 14:39:58,254 argus.nodes.kedro_viz_config_builder - DEBUG:Added a task node: Task node 5 whose node id is 4\n",
      "2023-09-24 14:39:58,255 argus.nodes.kedro_viz_config_builder - DEBUG:Added a data node: Feature data node 6 whose node id is 5\n",
      "2023-09-24 14:39:58,256 argus.nodes.kedro_viz_config_builder - DEBUG:Added an edge between node with id 2 and node with id 4\n",
      "2023-09-24 14:39:58,257 argus.nodes.kedro_viz_config_builder - DEBUG:Added an edge between node with id 4 and node with id 5\n",
      "2023-09-24 14:39:58,261 argus.nodes.kedro_viz_config_builder - DEBUG:Added a tag banana to the set\n",
      "2023-09-24 14:39:58,262 argus.nodes.kedro_viz_config_builder - DEBUG:Added a layer feature to the set\n",
      "2023-09-24 14:39:58,263 argus.nodes.kedro_viz_config_builder - INFO:Added a triple: ('Primary data node 4', 'Task node 5', 'Feature data node 6')\n"
     ]
    },
    {
     "data": {
      "text/plain": [
       "('2', '4', '5')"
      ]
     },
     "execution_count": 6,
     "metadata": {},
     "output_type": "execute_result"
    }
   ],
   "source": [
    "builder.add_triple(raw_1_to_task_3_triple_dict)\n",
    "builder.add_triple(raw_2_to_task_3_triple_dict)\n",
    "builder.add_triple(primary_4_to_feature_6_triple_dict)"
   ]
  },
  {
   "cell_type": "code",
   "execution_count": 7,
   "metadata": {},
   "outputs": [
    {
     "name": "stdout",
     "output_type": "stream",
     "text": [
      "2023-09-24 14:39:58,279 argus.data_interfaces.kedro_viz_config_data_interface - INFO:The Kedro Viz Configuration file generated it:\n",
      "{\n",
      "  \"nodes\": [\n",
      "    {\n",
      "      \"id\": \"0\",\n",
      "      \"name\": \"Raw input 1\",\n",
      "      \"pipelines\": [\n",
      "        \"__default__\"\n",
      "      ],\n",
      "      \"type\": \"data\",\n",
      "      \"modular_pipelines\": [],\n",
      "      \"layer\": \"raw\",\n",
      "      \"dataset_type\": null\n",
      "    },\n",
      "    {\n",
      "      \"id\": \"1\",\n",
      "      \"name\": \"Task node 3\",\n",
      "      \"tags\": [\n",
      "        \"orange\"\n",
      "      ],\n",
      "      \"pipelines\": [\n",
      "        \"__default__\"\n",
      "      ],\n",
      "      \"type\": \"task\",\n",
      "      \"modular_pipelines\": [],\n",
      "      \"parameters\": {}\n",
      "    },\n",
      "    {\n",
      "      \"id\": \"2\",\n",
      "      \"name\": \"Primary data node 4\",\n",
      "      \"pipelines\": [\n",
      "        \"__default__\"\n",
      "      ],\n",
      "      \"type\": \"data\",\n",
      "      \"modular_pipelines\": [],\n",
      "      \"layer\": \"primary\",\n",
      "      \"dataset_type\": null\n",
      "    },\n",
      "    {\n",
      "      \"id\": \"3\",\n",
      "      \"name\": \"Raw input 2\",\n",
      "      \"pipelines\": [\n",
      "        \"__default__\"\n",
      "      ],\n",
      "      \"type\": \"data\",\n",
      "      \"modular_pipelines\": [],\n",
      "      \"layer\": \"raw\",\n",
      "      \"dataset_type\": null\n",
      "    },\n",
      "    {\n",
      "      \"id\": \"4\",\n",
      "      \"name\": \"Task node 5\",\n",
      "      \"tags\": [\n",
      "        \"banana\"\n",
      "      ],\n",
      "      \"pipelines\": [\n",
      "        \"__default__\"\n",
      "      ],\n",
      "      \"type\": \"task\",\n",
      "      \"modular_pipelines\": [],\n",
      "      \"parameters\": {}\n",
      "    },\n",
      "    {\n",
      "      \"id\": \"5\",\n",
      "      \"name\": \"Feature data node 6\",\n",
      "      \"pipelines\": [\n",
      "        \"__default__\"\n",
      "      ],\n",
      "      \"type\": \"data\",\n",
      "      \"modular_pipelines\": [],\n",
      "      \"layer\": \"feature\",\n",
      "      \"dataset_type\": null\n",
      "    }\n",
      "  ],\n",
      "  \"edges\": [\n",
      "    {\n",
      "      \"source\": \"0\",\n",
      "      \"target\": \"1\"\n",
      "    },\n",
      "    {\n",
      "      \"source\": \"1\",\n",
      "      \"target\": \"2\"\n",
      "    },\n",
      "    {\n",
      "      \"source\": \"3\",\n",
      "      \"target\": \"1\"\n",
      "    },\n",
      "    {\n",
      "      \"source\": \"1\",\n",
      "      \"target\": \"2\"\n",
      "    },\n",
      "    {\n",
      "      \"source\": \"2\",\n",
      "      \"target\": \"4\"\n",
      "    },\n",
      "    {\n",
      "      \"source\": \"4\",\n",
      "      \"target\": \"5\"\n",
      "    }\n",
      "  ],\n",
      "  \"layers\": [\n",
      "    \"raw\",\n",
      "    \"primary\",\n",
      "    \"feature\"\n",
      "  ],\n",
      "  \"tags\": [\n",
      "    {\n",
      "      \"id\": \"orange\",\n",
      "      \"name\": \"orange\"\n",
      "    },\n",
      "    {\n",
      "      \"id\": \"orange\",\n",
      "      \"name\": \"orange\"\n",
      "    },\n",
      "    {\n",
      "      \"id\": \"banana\",\n",
      "      \"name\": \"banana\"\n",
      "    }\n",
      "  ],\n",
      "  \"pipelines\": [\n",
      "    {\n",
      "      \"id\": \"__default__\",\n",
      "      \"name\": \"__default__\"\n",
      "    }\n",
      "  ],\n",
      "  \"modular_pipelines\": {\n",
      "    \"__root__\": {\n",
      "      \"id\": \"__root__\",\n",
      "      \"name\": \"__root__\",\n",
      "      \"inputs\": [],\n",
      "      \"outputs\": [],\n",
      "      \"children\": [\n",
      "        {\n",
      "          \"id\": \"0\",\n",
      "          \"type\": \"data\"\n",
      "        },\n",
      "        {\n",
      "          \"id\": \"1\",\n",
      "          \"type\": \"task\"\n",
      "        },\n",
      "        {\n",
      "          \"id\": \"2\",\n",
      "          \"type\": \"data\"\n",
      "        },\n",
      "        {\n",
      "          \"id\": \"3\",\n",
      "          \"type\": \"data\"\n",
      "        },\n",
      "        {\n",
      "          \"id\": \"4\",\n",
      "          \"type\": \"task\"\n",
      "        },\n",
      "        {\n",
      "          \"id\": \"5\",\n",
      "          \"type\": \"data\"\n",
      "        }\n",
      "      ]\n",
      "    }\n",
      "  },\n",
      "  \"selected_pipeline\": \"__default__\"\n",
      "}\n",
      "2023-09-24 14:39:58,281 argus.data_interfaces.kedro_viz_config_data_interface - INFO:Saved a <class 'argus.data_interfaces.kedro_viz_config_data_interface.KedroVizConfig'> file to kedro_viz_config.json\n"
     ]
    }
   ],
   "source": [
    "kedro_viz_data_interface.save(builder.kedro_viz_config)"
   ]
  }
 ],
 "metadata": {
  "kernelspec": {
   "display_name": ".venv",
   "language": "python",
   "name": "python3"
  },
  "language_info": {
   "codemirror_mode": {
    "name": "ipython",
    "version": 3
   },
   "file_extension": ".py",
   "mimetype": "text/x-python",
   "name": "python",
   "nbconvert_exporter": "python",
   "pygments_lexer": "ipython3",
   "version": "3.10.7"
  },
  "orig_nbformat": 4
 },
 "nbformat": 4,
 "nbformat_minor": 2
}
